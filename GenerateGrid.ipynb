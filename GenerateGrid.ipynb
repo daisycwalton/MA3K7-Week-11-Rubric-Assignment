{
 "cells": [
  {
   "cell_type": "markdown",
   "id": "46fd2c60-2b88-4852-a0b9-35bc4bda12f8",
   "metadata": {},
   "source": [
    "## MA3K7 Week 11 Rubric Code - Generate Grid"
   ]
  },
  {
   "cell_type": "code",
   "execution_count": 16,
   "id": "d23faea3-4674-49d1-b271-b17a349c99eb",
   "metadata": {},
   "outputs": [],
   "source": [
    "import numpy as np\n",
    "from numpy import random"
   ]
  },
  {
   "cell_type": "code",
   "execution_count": 36,
   "id": "cdee64e5-0d91-462b-ac81-84e9bc9e16fa",
   "metadata": {},
   "outputs": [
    {
     "name": "stdout",
     "output_type": "stream",
     "text": [
      "3 5 8\n",
      "6 1 7\n",
      "9 2 4\n"
     ]
    }
   ],
   "source": [
    "numbers = np.arange(1,10)\n",
    "random.shuffle(numbers)\n",
    "grid = [numbers[i:i+3] for i in range(0, 9, 3)]\n",
    "for row in grid:\n",
    "    print(' '.join(map(str, row)))"
   ]
  },
  {
   "cell_type": "code",
   "execution_count": null,
   "id": "89fbaaab-9bf9-43aa-930b-976680c2034d",
   "metadata": {},
   "outputs": [],
   "source": []
  }
 ],
 "metadata": {
  "kernelspec": {
   "display_name": "Python 3 (ipykernel)",
   "language": "python",
   "name": "python3"
  },
  "language_info": {
   "codemirror_mode": {
    "name": "ipython",
    "version": 3
   },
   "file_extension": ".py",
   "mimetype": "text/x-python",
   "name": "python",
   "nbconvert_exporter": "python",
   "pygments_lexer": "ipython3",
   "version": "3.9.13"
  }
 },
 "nbformat": 4,
 "nbformat_minor": 5
}
