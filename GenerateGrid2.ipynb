{
 "cells": [
  {
   "cell_type": "markdown",
   "id": "a67f760d-ad30-493b-b6c0-98d2671b131e",
   "metadata": {},
   "source": [
    "## MA3K7 Week 11 Rubric Code"
   ]
  },
  {
   "cell_type": "code",
   "execution_count": 4,
   "id": "c181e69d-af51-4b4d-abff-470723f8be84",
   "metadata": {},
   "outputs": [],
   "source": [
    "import numpy as np\n",
    "from numpy import random"
   ]
  },
  {
   "cell_type": "code",
   "execution_count": 6,
   "id": "8b833e22-7257-4b19-bfd2-9aaec77338b8",
   "metadata": {},
   "outputs": [
    {
     "name": "stdout",
     "output_type": "stream",
     "text": [
      "6 7 4\n",
      "5 8 3\n",
      "9 1 2\n"
     ]
    }
   ],
   "source": [
    "numbers = np.arange(1,10)\n",
    "random.shuffle(numbers)\n",
    "grid = [numbers[i:i+3] for i in range(0, 9, 3)]\n",
    "for row in grid:\n",
    "    print(' '.join(map(str, row)))"
   ]
  },
  {
   "cell_type": "code",
   "execution_count": null,
   "id": "64159050-9df2-46ea-a9df-cddf96c68b79",
   "metadata": {},
   "outputs": [],
   "source": []
  }
 ],
 "metadata": {
  "kernelspec": {
   "display_name": "Python 3 (ipykernel)",
   "language": "python",
   "name": "python3"
  },
  "language_info": {
   "codemirror_mode": {
    "name": "ipython",
    "version": 3
   },
   "file_extension": ".py",
   "mimetype": "text/x-python",
   "name": "python",
   "nbconvert_exporter": "python",
   "pygments_lexer": "ipython3",
   "version": "3.9.13"
  }
 },
 "nbformat": 4,
 "nbformat_minor": 5
}
