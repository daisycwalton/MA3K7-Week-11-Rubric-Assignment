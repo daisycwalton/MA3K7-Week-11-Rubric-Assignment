{
 "cells": [
  {
   "cell_type": "markdown",
   "id": "e18624bc-6930-4a6f-8300-fc55a8932044",
   "metadata": {},
   "source": [
    "## MA3K7 Week 11 Rubric Code - Simulation"
   ]
  },
  {
   "cell_type": "code",
   "execution_count": 1,
   "id": "e71e9f88-5b8c-490c-b5f1-d9c28e1cc9bc",
   "metadata": {},
   "outputs": [],
   "source": [
    "import numpy as np\n",
    "from numpy import random"
   ]
  },
  {
   "cell_type": "markdown",
   "id": "b9cf138a-50d0-4c23-9c10-d50714f72e98",
   "metadata": {},
   "source": [
    "### Simulation of the game for a random 3x3 grid"
   ]
  },
  {
   "cell_type": "code",
   "execution_count": 2,
   "id": "3f7b9e46-bf99-478c-a181-8267743fb1a4",
   "metadata": {},
   "outputs": [
    {
     "name": "stdout",
     "output_type": "stream",
     "text": [
      "The starting grid is: \n",
      " [[4 6 1]\n",
      " [5 7 2]\n",
      " [3 8 9]] \n",
      "\n",
      "Moving 1 into its position:\n",
      " [[1 4 6]\n",
      " [5 7 2]\n",
      " [3 8 9]] \n",
      "\n",
      "Moving 2 into its position:\n",
      " [[1 2 6]\n",
      " [7 8 5]\n",
      " [3 4 9]] \n",
      "\n",
      "Moving 3 into its position:\n",
      " [[1 2 3]\n",
      " [7 8 6]\n",
      " [4 9 5]] \n",
      "\n",
      "Moving 4 into its position:\n",
      " [[1 2 3]\n",
      " [4 8 6]\n",
      " [5 9 7]] \n",
      "\n",
      "Moving 5 into its position:\n",
      " [[1 2 3]\n",
      " [4 5 6]\n",
      " [7 9 8]] \n",
      "\n",
      "Moving 6 into its position:\n",
      " [[1 2 3]\n",
      " [4 5 6]\n",
      " [7 9 8]] \n",
      "\n",
      "Moving 7 into its position:\n",
      " [[1 2 3]\n",
      " [4 5 6]\n",
      " [7 9 8]] \n",
      "\n",
      "Hence this game is not solvable by this algorithm\n"
     ]
    }
   ],
   "source": [
    "def move_left(grid, pos, N):\n",
    "    if N == 1 or N == -2:\n",
    "        grid[pos] = np.roll(grid[pos], 2)\n",
    "    elif N == 2 or N == -1:\n",
    "        grid[pos] = np.roll(grid[pos], 1)\n",
    "        \n",
    "    return grid\n",
    "\n",
    "\n",
    "def move_up(grid, pos, N):\n",
    "    arr = [grid[0][pos], grid[1][pos], grid[2][pos]]\n",
    "    \n",
    "    if N == 2 or N == -1:\n",
    "        shift_arr = np.roll(arr, 1)\n",
    "    elif N == 1 or N == -2:\n",
    "        shift_arr = np.roll(arr, 2)\n",
    "    elif N == 0:\n",
    "        shift_arr = arr\n",
    "        \n",
    "    for i in range(3):\n",
    "        grid[i][pos] = shift_arr[i]\n",
    "        \n",
    "    return grid\n",
    "\n",
    "\n",
    "coords = {\n",
    "    1: (0,0),\n",
    "    2: (0,1),\n",
    "    3: (0,2),\n",
    "    4: (1,0),\n",
    "    5: (1,1),\n",
    "    6: (1,2),\n",
    "    7: (2,0),\n",
    "    8: (2,1),\n",
    "    9: (2,2),\n",
    "}\n",
    "\n",
    "\n",
    "def basic_moves(grid, i):\n",
    "    x = np.argwhere(grid==i)[0]\n",
    "    vertical = x[0] - coords[i][0]\n",
    "    horizontal = x[1] - coords[i][1]\n",
    "    x[1] -= horizontal\n",
    "    \n",
    "    return move_up(move_left(grid, x[0], horizontal), x[1], vertical)\n",
    "\n",
    "\n",
    "def same_row(grid, i):\n",
    "    x = np.argwhere(grid==i)[0]\n",
    "    new_grid = move_up(move_left(move_up(grid, 0, 1), x[0], 1), 0, 2)\n",
    "    return new_grid\n",
    "\n",
    "\n",
    "def outcome(grid, i):\n",
    "    if i in range(1,4):\n",
    "        if i == 2 and grid[0][2] == 2:\n",
    "            same_row(grid, i)\n",
    "        else:\n",
    "            basic_moves(grid, i)\n",
    "    \n",
    "    elif i in range(4,7):\n",
    "        x = np.argwhere(grid==i)[0]\n",
    "        \n",
    "        if x[0] == 1:\n",
    "            if i == 5 and grid[1][2] == 5:\n",
    "                same_row(grid, i)\n",
    "            else: \n",
    "                basic_moves(grid, i)\n",
    "                \n",
    "        elif x[0] == 2:\n",
    "            if x[1] != coords[i][1]:\n",
    "                new_grid = move_up(grid, coords[i][1], 2)\n",
    "                basic_moves(new_grid, i)\n",
    "            else:\n",
    "                new_grid = move_up(move_left(grid, x[0], 2), coords[i][1], 2)\n",
    "                basic_moves(new_grid, i)\n",
    "                \n",
    "    elif i == 7:\n",
    "            basic_moves(grid, i)\n",
    "            \n",
    "    return grid\n",
    "\n",
    "\n",
    "def print_result(grid):\n",
    "    for i in range(1,8):\n",
    "        grid = outcome(grid,i)\n",
    "        print(f\"Moving {i} into its position:\\n\", grid, \"\\n\")\n",
    "    \n",
    "    if grid[2][1] == 8:\n",
    "        print(\"Hence this game is solvable\")\n",
    "    else:\n",
    "        print(\"Hence this game is not solvable by this algorithm\")\n",
    "        \n",
    "\n",
    "def print_final(grid):\n",
    "    for i in range(1,8):\n",
    "        grid = outcome(grid,i)\n",
    "    \n",
    "    print(\"The final grid is: \\n\", grid)\n",
    "          \n",
    "    if grid[2][1] == 8:\n",
    "        print(\"Hence this game is solvable\")\n",
    "    else:\n",
    "        print(\"Hence this game is not solvable by this algorithm\")\n",
    "\n",
    "        \n",
    "def result(grid):\n",
    "    for i in range(1,8):\n",
    "        grid = outcome(grid,i)\n",
    "    \n",
    "    if grid[2][1] == 8:\n",
    "        return True\n",
    "    else:\n",
    "        return False\n",
    "\n",
    "\n",
    "# Generate a random 3x3 grid\n",
    "numbers = np.arange(1, 10)\n",
    "np.random.shuffle(numbers)\n",
    "grid = np.reshape(numbers, (3,3))\n",
    "\n",
    "print(\"The starting grid is: \\n\", grid, \"\\n\")\n",
    "print_result(grid)"
   ]
  },
  {
   "cell_type": "markdown",
   "id": "60c23cf7-7cc8-4fec-8ad1-5bbd4f49b459",
   "metadata": {},
   "source": [
    "### Simulation of the game for the example given in the question"
   ]
  },
  {
   "cell_type": "code",
   "execution_count": 3,
   "id": "c014b229-f673-46f1-b81c-1d71df98472c",
   "metadata": {},
   "outputs": [
    {
     "name": "stdout",
     "output_type": "stream",
     "text": [
      "The starting grid is: \n",
      " [[3 5 8]\n",
      " [6 1 7]\n",
      " [9 2 4]] \n",
      "\n",
      "The final grid is: \n",
      " [[1 2 3]\n",
      " [4 5 6]\n",
      " [7 9 8]]\n",
      "Hence this game is not solvable by this algorithm\n"
     ]
    }
   ],
   "source": [
    "grid1 = np.array([[3,5,8],[6,1,7],[9,2,4]])\n",
    "\n",
    "print(\"The starting grid is: \\n\", grid1, \"\\n\")\n",
    "print_final(grid1)"
   ]
  },
  {
   "cell_type": "markdown",
   "id": "2ca132ac-1de7-4c1d-8b1a-4b73996b68ba",
   "metadata": {},
   "source": [
    "### Simulation of the game when swapping 3 and 5 in the example given in the question"
   ]
  },
  {
   "cell_type": "code",
   "execution_count": 4,
   "id": "f223416f-6a1a-477f-9423-141f392743c3",
   "metadata": {},
   "outputs": [
    {
     "name": "stdout",
     "output_type": "stream",
     "text": [
      "The starting grid is: \n",
      " [[5 3 8]\n",
      " [6 1 7]\n",
      " [9 2 4]] \n",
      "\n",
      "The final grid is: \n",
      " [[1 2 3]\n",
      " [4 5 6]\n",
      " [7 8 9]]\n",
      "Hence this game is solvable\n"
     ]
    }
   ],
   "source": [
    "grid2 = np.array([[5,3,8],[6,1,7],[9,2,4]])\n",
    "\n",
    "print(\"The starting grid is: \\n\", grid2, \"\\n\")\n",
    "print_final(grid2)"
   ]
  },
  {
   "cell_type": "markdown",
   "id": "af60feac-cf96-4c39-a03e-b3e30005dabc",
   "metadata": {},
   "source": [
    "### Extension - counts the number of solvable games, generates a mean number of solvable games"
   ]
  },
  {
   "cell_type": "code",
   "execution_count": 6,
   "id": "c3c955d4-d70e-488d-a812-f2bc520fcb2b",
   "metadata": {},
   "outputs": [
    {
     "data": {
      "text/plain": [
       "5008.15"
      ]
     },
     "execution_count": 6,
     "metadata": {},
     "output_type": "execute_result"
    }
   ],
   "source": [
    "def count():\n",
    "    count = 0\n",
    "    for _ in range(10000):\n",
    "        numbers = np.arange(1, 10)\n",
    "        np.random.shuffle(numbers)\n",
    "        grid = np.reshape(numbers, (3,3))\n",
    "        \n",
    "        if result(grid) == True:\n",
    "            count += 1\n",
    "    \n",
    "    return count\n",
    "\n",
    "\n",
    "def mean(N):\n",
    "    total = 0\n",
    "    for _ in range(N):\n",
    "        total += count()\n",
    "    \n",
    "    mean = total / N\n",
    "    \n",
    "    return mean\n",
    "\n",
    "mean(20)"
   ]
  },
  {
   "cell_type": "code",
   "execution_count": null,
   "id": "60a60ced-b2e0-4ff0-8b36-922f227fee9b",
   "metadata": {},
   "outputs": [],
   "source": []
  }
 ],
 "metadata": {
  "kernelspec": {
   "display_name": "Python 3 (ipykernel)",
   "language": "python",
   "name": "python3"
  },
  "language_info": {
   "codemirror_mode": {
    "name": "ipython",
    "version": 3
   },
   "file_extension": ".py",
   "mimetype": "text/x-python",
   "name": "python",
   "nbconvert_exporter": "python",
   "pygments_lexer": "ipython3",
   "version": "3.9.13"
  }
 },
 "nbformat": 4,
 "nbformat_minor": 5
}
